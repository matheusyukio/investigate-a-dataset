{
 "cells": [
  {
   "cell_type": "code",
   "execution_count": null,
   "metadata": {
    "collapsed": true
   },
   "outputs": [],
   "source": [
    "# This project is about investigate a Baseball dataset and find if some variables are related\n",
    "# The dataset is available on http://www.seanlahman.com/baseball-archive/statistics/"
   ]
  },
  {
   "cell_type": "code",
   "execution_count": 2,
   "metadata": {
    "collapsed": true
   },
   "outputs": [],
   "source": [
    "# Importing libs\n",
    "import numpy as np\n",
    "import pandas as pd\n",
    "import seaborn as sns\n",
    "from scipy import stats\n",
    "import matplotlib.pyplot as plt"
   ]
  },
  {
   "cell_type": "code",
   "execution_count": 4,
   "metadata": {
    "collapsed": false
   },
   "outputs": [],
   "source": [
    "\"\"\"Quality of Analysis\"\"\"\n",
    "# Questions about data\n",
    "# I would like to know if Salaries are related to Fame, I will analysis two files Salaries.csv and HallOfFame.csv\n",
    "\n",
    "# Are just the players with big salaries in the Hall of Fame\n",
    "# Do the salaries in the last 10 years increase more than total period"
   ]
  },
  {
   "cell_type": "code",
   "execution_count": 3,
   "metadata": {
    "collapsed": false
   },
   "outputs": [],
   "source": [
    "\"\"\"Data Wrangling Phase\"\"\"\n",
    "# Changes that were made to clean the data, such as merging files, handling missing values\n",
    "\n",
    "# read data into Pandas DataFrames\n",
    "#salaries = pd.read_csv('Salaries.csv', index_col='playerID')\n",
    "salaries = pd.read_csv('Salaries.csv')\n",
    "hallOfFame = pd.read_csv('HallOfFame.csv')\n",
    "\n",
    "#change yearid in HallOfFame.csv to yearID\n",
    "hallOfFame.columns = ['playerID','yearID','votedBy','ballots','needed','votes','inducted','category','needed_note']\n",
    "\n",
    "# Analysis in the last 10 years\n",
    "salariesLast10years = salaries[salaries.yearID > 2006]\n",
    "hallOfFameLast10years = hallOfFame[hallOfFame.yearID > 2006]\n",
    "\n",
    "# Merge the two tables\n",
    "salaryJoinHallOfFame = salariesLast10years.merge(hallOfFameLast10years, on=['playerID'], how='inner')"
   ]
  },
  {
   "cell_type": "code",
   "execution_count": 4,
   "metadata": {
    "collapsed": false
   },
   "outputs": [
    {
     "name": "stdout",
     "output_type": "stream",
     "text": [
      "Populating the interactive namespace from numpy and matplotlib\n"
     ]
    },
    {
     "data": {
      "text/plain": [
       "<matplotlib.axes._subplots.AxesSubplot at 0xacba400>"
      ]
     },
     "execution_count": 4,
     "metadata": {},
     "output_type": "execute_result"
    },
    {
     "data": {
      "image/png": "[encoded data removed]",
      "text/plain": [
       "<matplotlib.figure.Figure at 0xa126eb8>"
      ]
     },
     "metadata": {},
     "output_type": "display_data"
    }
   ],
   "source": [
    "\"\"\"Exploration Phase\"\"\"\n",
    "# Investigate the stated question(s) from multiple angles.\n",
    "\n",
    "# Plotting the dataset, the salaries increases over the years\n",
    "%pylab inline\n",
    "salaries['salary'].plot()"
   ]
  },
  {
   "cell_type": "code",
   "execution_count": 5,
   "metadata": {
    "collapsed": false
   },
   "outputs": [
    {
     "name": "stdout",
     "output_type": "stream",
     "text": [
      "Total stats\n",
      "count    3.200000e+01\n",
      "mean     1.722473e+09\n",
      "std      1.064078e+09\n",
      "min      2.619647e+08\n",
      "25%      8.776909e+08\n",
      "50%      1.813399e+09\n",
      "75%      2.669760e+09\n",
      "max      3.750137e+09\n",
      "Name: salary, dtype: float64\n",
      "Last 10 years stats\n",
      "count    1.000000e+01\n",
      "mean     2.975600e+09\n",
      "std      4.046194e+08\n",
      "min      2.476689e+09\n",
      "25%      2.693984e+09\n",
      "50%      2.858623e+09\n",
      "75%      3.152870e+09\n",
      "max      3.750137e+09\n",
      "Name: salary, dtype: float64\n"
     ]
    }
   ],
   "source": [
    "# Total stats from Salaries.csv\n",
    "print (\"Total stats\")\n",
    "print(salaries.groupby('yearID').sum()['salary'].describe())\n",
    "\n",
    "print (\"Last 10 years stats\")\n",
    "print(salariesLast10years.groupby('yearID').sum()['salary'].describe())"
   ]
  },
  {
   "cell_type": "code",
   "execution_count": 6,
   "metadata": {
    "collapsed": false
   },
   "outputs": [
    {
     "name": "stdout",
     "output_type": "stream",
     "text": [
      "           Stats last 10 years\n",
      "slope             1.589106e+05\n",
      "intercept        -3.160676e+08\n",
      "r_value           9.505133e-02\n",
      "p_value           3.761616e-18\n",
      "std_err           1.825345e+04\n"
     ]
    }
   ],
   "source": [
    "#Using stats library to compare total salaries and salaries last 10 years\n",
    "slope10, intercept10, r_value10, p_value10, std_err10 = stats.linregress(salariesLast10years.yearID,salariesLast10years.salary)\n",
    "\n",
    "last10yearsIndexDf = ['slope','intercept','r_value','p_value','std_err']\n",
    "\n",
    "last10yearsStats = pd.DataFrame([slope10, intercept10, r_value10, p_value10, std_err10], index=last10yearsIndexDf, columns=['Stats last 10 years'])\n",
    "\n",
    "print last10yearsStats"
   ]
  },
  {
   "cell_type": "code",
   "execution_count": 7,
   "metadata": {
    "collapsed": false
   },
   "outputs": [
    {
     "name": "stdout",
     "output_type": "stream",
     "text": [
      "            Stats total\n",
      "slope      1.364173e+05\n",
      "intercept -2.708687e+08\n",
      "r_value    3.517400e-01\n",
      "p_value    0.000000e+00\n",
      "std_err    2.233331e+03\n"
     ]
    }
   ],
   "source": [
    "#Using stats library to compare total salaries and salaries last 10 years\n",
    "slope, intercept, r_value, p_value, std_err = stats.linregress(salaries.yearID,salaries.salary)\n",
    "\n",
    "totalIndexDf = ['slope','intercept','r_value','p_value','std_err']\n",
    "\n",
    "totalStats = pd.DataFrame([slope, intercept, r_value, p_value, std_err], index=totalIndexDf, columns=['Stats total'])\n",
    "\n",
    "print totalStats"
   ]
  },
  {
   "cell_type": "code",
   "execution_count": 8,
   "metadata": {
    "collapsed": false
   },
   "outputs": [
    {
     "data": {
      "text/plain": [
       "[<matplotlib.lines.Line2D at 0xb0c3ef0>,\n",
       " <matplotlib.lines.Line2D at 0xb0d40f0>]"
      ]
     },
     "execution_count": 8,
     "metadata": {},
     "output_type": "execute_result"
    },
    {
     "data": {
      "image/png": "[encoded data removed]",
      "text/plain": [
       "<matplotlib.figure.Figure at 0xae5b390>"
      ]
     },
     "metadata": {},
     "output_type": "display_data"
    }
   ],
   "source": [
    "# Plot\n",
    "# Using matplotlib and compare total slope and last 10 years slope\n",
    "plt.plot(salaries['salary'],'r--',salariesLast10years['salary'],'b--')\n"
   ]
  },
  {
   "cell_type": "code",
   "execution_count": 9,
   "metadata": {
    "collapsed": false
   },
   "outputs": [
    {
     "name": "stdout",
     "output_type": "stream",
     "text": [
      "    yearID_x teamID lgID   playerID    salary  yearID_y votedBy  ballots  \\\n",
      "28      2009    LAN   NL  ramirma02  23854494      2017   BBWAA    442.0   \n",
      "\n",
      "    needed  votes inducted category needed_note  \n",
      "28   332.0  105.0        N   Player         NaN  \n",
      " \n",
      "     yearID_x teamID lgID   playerID  salary  yearID_y votedBy  ballots  \\\n",
      "301      2010    CIN   NL  francju02  400000      2013   BBWAA    569.0   \n",
      "\n",
      "     needed  votes inducted category needed_note  \n",
      "301   427.0    6.0        N   Player         NaN  \n"
     ]
    }
   ],
   "source": [
    "maxPlayerId = salaryJoinHallOfFame['salary'].argmax()\n",
    "minPlayerId = salaryJoinHallOfFame['salary'].argmin()\n",
    "\n",
    "print salaryJoinHallOfFame.iloc[[maxPlayerId]]\n",
    "print \" \"\n",
    "print salaryJoinHallOfFame.iloc[[minPlayerId]]"
   ]
  },
  {
   "cell_type": "code",
   "execution_count": 10,
   "metadata": {
    "collapsed": false
   },
   "outputs": [
    {
     "name": "stdout",
     "output_type": "stream",
     "text": [
      "yearID_x teamID lgID playerID salary yearID_y ballots needed votes\n",
      "2007 BOS AL ramirma02 17016381 2017 442.0 332.0 105.0\n",
      "2008 BOS AL ramirma02 18929923 2017 442.0 332.0 105.0\n",
      "2009 LAN NL ramirma02 23854494 2017 442.0 332.0 105.0\n",
      "2010 LAN NL ramirma02 18695006 2017 442.0 332.0 105.0\n",
      "2011 TBA AL ramirma02 2020000 2017 442.0 332.0 105.0\n",
      "2010 CIN NL francju02 400000 2013 569.0 427.0 6.0\n",
      "2011 CIN NL francju02 414000 2013 569.0 427.0 6.0\n",
      "2012 ATL NL francju02 480000 2013 569.0 427.0 6.0\n",
      "2013 ATL NL francju02 496250 2013 569.0 427.0 6.0\n"
     ]
    }
   ],
   "source": [
    "# finding if the minimum salary is in the hall of fame dataset\n",
    "print 'yearID_x','teamID','lgID','playerID','salary','yearID_y','ballots','needed','votes'\n",
    "for index, row in salaryJoinHallOfFame.iterrows():\n",
    "    if row['playerID'] == 'ramirma02':\n",
    "        print  row['yearID_x'],row['teamID'],row['lgID'],row['playerID'],row['salary'],row['yearID_y'],row['ballots'],row['needed'], row['votes']\n",
    "    elif row['playerID'] == 'francju02':\n",
    "        print  row['yearID_x'],row['teamID'],row['lgID'],row['playerID'],row['salary'],row['yearID_y'],row['ballots'],row['needed'], row['votes']\n",
    "        "
   ]
  },
  {
   "cell_type": "code",
   "execution_count": null,
   "metadata": {
    "collapsed": false
   },
   "outputs": [],
   "source": [
    "\"\"\"Conclusions Phase\"\"\"\n",
    "\n",
    "\"\"\"\"\n",
    "Comparing the values in the statistics, in the last 10 years the slope is grater than the total years, meaning that the salaries\n",
    "increase more.\n",
    "\n",
    "playerID francju02 with the min salary is in the hall of fame table as ramirma02 with the max salary, this data is interresting\n",
    "because not only players with big salary  are in the hall of fame but also small salary.\n",
    "\n",
    "\"\"\"\""
   ]
  },
  {
   "cell_type": "code",
   "execution_count": null,
   "metadata": {
    "collapsed": true
   },
   "outputs": [],
   "source": [
    "\"\"\"Communication\"\"\"\n",
    "\"\"\"The flow of the analysis\"\"\"\n",
    "# Choose the dataset: Baseball Data (http://www.seanlahman.com/baseball-archive/statistics/)\n",
    "# State one or more questions about the data\n",
    "# Clean the data, merging, changing column name and other changes\n",
    "# Explore the data using statistics, plot\n",
    "# Conclusion about questions stated"
   ]
  },
  {
   "cell_type": "code",
   "execution_count": null,
   "metadata": {
    "collapsed": true
   },
   "outputs": [],
   "source": [
    "# References\n",
    "\n",
    "# https://docs.scipy.org/doc/scipy-0.18.1/reference/stats.html\n",
    "# https://classroom.udacity.com/nanodegrees/nd002"
   ]
  }
 ],
 "metadata": {
  "anaconda-cloud": {},
  "kernelspec": {
   "display_name": "Python [conda env:DAND]",
   "language": "python",
   "name": "conda-env-DAND-py"
  },
  "language_info": {
   "codemirror_mode": {
    "name": "ipython",
    "version": 2
   },
   "file_extension": ".py",
   "mimetype": "text/x-python",
   "name": "python",
   "nbconvert_exporter": "python",
   "pygments_lexer": "ipython2",
   "version": "2.7.12"
  }
 },
 "nbformat": 4,
 "nbformat_minor": 2
}
