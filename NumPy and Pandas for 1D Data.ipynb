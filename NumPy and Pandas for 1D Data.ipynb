{
 "cells": [
  {
   "cell_type": "code",
   "execution_count": 2,
   "metadata": {
    "collapsed": false
   },
   "outputs": [
    {
     "data": {
      "text/plain": [
       "1237"
      ]
     },
     "execution_count": 2,
     "metadata": {},
     "output_type": "execute_result"
    }
   ],
   "source": [
    "import pandas as pd\n",
    "\n",
    "daily_engagement = pd.read_csv('daily_engagement.csv')\n",
    "len(daily_engagement['acct'].unique())"
   ]
  },
  {
   "cell_type": "code",
   "execution_count": 5,
   "metadata": {
    "collapsed": false
   },
   "outputs": [],
   "source": [
    "import numpy as np\n",
    "\n",
    "# First 20 countries with employment data\n",
    "countries = np.array([\n",
    "    'Afghanistan', 'Albania', 'Algeria', 'Angola', 'Argentina',\n",
    "    'Armenia', 'Australia', 'Austria', 'Azerbaijan', 'Bahamas',\n",
    "    'Bahrain', 'Bangladesh', 'Barbados', 'Belarus', 'Belgium',\n",
    "    'Belize', 'Benin', 'Bhutan', 'Bolivia',\n",
    "    'Bosnia and Herzegovina'\n",
    "])\n",
    "\n",
    "# Employment data in 2007 for those 20 countries\n",
    "employment = np.array([\n",
    "    55.70000076,  51.40000153,  50.5       ,  75.69999695,\n",
    "    58.40000153,  40.09999847,  61.5       ,  57.09999847,\n",
    "    60.90000153,  66.59999847,  60.40000153,  68.09999847,\n",
    "    66.90000153,  53.40000153,  48.59999847,  56.79999924,\n",
    "    71.59999847,  58.40000153,  70.40000153,  41.20000076\n",
    "])\n",
    "\n",
    "# Change False to True for each block of code to see what it does\n",
    "\n",
    "# Accessing elements\n",
    "if False:\n",
    "    print countries[0]\n",
    "    print countries[3]\n",
    "\n",
    "# Slicing\n",
    "if False:\n",
    "    print countries[0:3]\n",
    "    print countries[:3]\n",
    "    print countries[17:]\n",
    "    print countries[:]\n",
    "\n",
    "# Element types\n",
    "if False:\n",
    "    print countries.dtype\n",
    "    print employment.dtype\n",
    "    print np.array([0, 1, 2, 3]).dtype\n",
    "    print np.array([1.0, 1.5, 2.0, 2.5]).dtype\n",
    "    print np.array([True, False, True]).dtype\n",
    "    print np.array(['AL', 'AK', 'AZ', 'AR', 'CA']).dtype\n",
    "\n",
    "# Looping\n",
    "if False:\n",
    "    for country in countries:\n",
    "        print 'Examining country {}'.format(country)\n",
    "\n",
    "    for i in range(len(countries)):\n",
    "        country = countries[i]\n",
    "        country_employment = employment[i]\n",
    "        print 'Country {} has employment {}'.format(country,\n",
    "                country_employment)\n",
    "\n",
    "# Numpy functions\n",
    "if False:\n",
    "    print employment.mean()\n",
    "    print employment.std()\n",
    "    print employment.max()\n",
    "    print employment.sum()\n",
    "\n",
    "def max_employment(countries, employment):\n",
    "    '''\n",
    "    Fill in this function to return the name of the country\n",
    "    with the highest employment in the given employment\n",
    "    data, and the employment in that country.\n",
    "    '''\n",
    "    max_country = None\n",
    "    max_employment = 0\n",
    "    \n",
    "    for i in range(len(countries)):\n",
    "        country = countries[i]\n",
    "        country_employment = employment[i]\n",
    "        \n",
    "        if country_employment > max_employment:\n",
    "            max_country = country\n",
    "            max_employment = country_employment\n",
    "\n",
    "    return (max_country, max_value)"
   ]
  },
  {
   "cell_type": "code",
   "execution_count": null,
   "metadata": {
    "collapsed": true
   },
   "outputs": [],
   "source": [
    "def max_employment2(countries, employment):\n",
    "    i = employment.argmax()\n",
    "    return (countries[i], employment[i])"
   ]
  }
 ],
 "metadata": {
  "kernelspec": {
   "display_name": "Python [conda env:DAND]",
   "language": "python",
   "name": "conda-env-DAND-py"
  },
  "language_info": {
   "codemirror_mode": {
    "name": "ipython",
    "version": 2
   },
   "file_extension": ".py",
   "mimetype": "text/x-python",
   "name": "python",
   "nbconvert_exporter": "python",
   "pygments_lexer": "ipython2",
   "version": "2.7.12"
  }
 },
 "nbformat": 4,
 "nbformat_minor": 2
}
